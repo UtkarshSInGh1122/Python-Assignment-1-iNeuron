{
  "nbformat": 4,
  "nbformat_minor": 0,
  "metadata": {
    "colab": {
      "provenance": []
    },
    "kernelspec": {
      "name": "python3",
      "display_name": "Python 3"
    },
    "language_info": {
      "name": "python"
    }
  },
  "cells": [
    {
      "cell_type": "markdown",
      "source": [
        "#### Q1. In the below elements which of them are values or an expression? eg:- values can be integer or string and expressions will be mathematical operators.\n",
        "* \n",
        "'hello'\n",
        "- -87.8\n",
        "- - \n",
        "- / \n",
        "- +\n",
        "- 6 \n"
      ],
      "metadata": {
        "id": "WP6OdeygDv_6"
      }
    },
    {
      "cell_type": "markdown",
      "source": [
        "- \"hello\"   it is a string value.\n",
        "- \"-87.8\"  is a float value.\n",
        "-\"-\"  is a mathematical operators.\n",
        "-\"/\"  is a mathematical operators.\n",
        "- \"+\" is a mathematical operators.\n",
        "- \"6\" is a integer value."
      ],
      "metadata": {
        "id": "LcD98v88E7iT"
      }
    },
    {
      "cell_type": "markdown",
      "source": [
        "#### Q2. What is the difference between string and variable?"
      ],
      "metadata": {
        "id": "oSFIc61yHBq0"
      }
    },
    {
      "cell_type": "markdown",
      "source": [
        "varialbe\n",
        "variable is that in variable we can store the data to use in program\n",
        "\n",
        "string is a type of a data that we can store that data by using variable\n",
        "\n",
        "- ex-\n",
        "- A = \"Hello\"\n",
        "-In this example A is a variable and \"Hello\" is a string"
      ],
      "metadata": {
        "id": "mHIE2hmQHoeR"
      }
    },
    {
      "cell_type": "markdown",
      "source": [
        "#### Q3. Describe three different data types."
      ],
      "metadata": {
        "id": "BA-ZpXEPIgDg"
      }
    },
    {
      "cell_type": "markdown",
      "source": [
        "1. Integer\n",
        "2. Float\n",
        "3. Booleans\n"
      ],
      "metadata": {
        "id": "joK6YZFsIo-X"
      }
    },
    {
      "cell_type": "markdown",
      "source": [
        "#### Q4. What is an expression made up of? What do all expressions do?"
      ],
      "metadata": {
        "id": "Or0ja1XtJEsC"
      }
    },
    {
      "cell_type": "markdown",
      "source": [
        "- An expression is a construct made up of variables, operators, and method.\n",
        "- Expressions are representations of value."
      ],
      "metadata": {
        "id": "wWxddjThJilD"
      }
    },
    {
      "cell_type": "markdown",
      "source": [
        "#### Q5. This assignment statements, like spam = 10. What is the difference between an expression and a statement?"
      ],
      "metadata": {
        "id": "G7Wqf5fRKc9Q"
      }
    },
    {
      "cell_type": "markdown",
      "source": [
        "- An expression evaluates to a single value. A statement does not."
      ],
      "metadata": {
        "id": "l1xrL0nFKlgD"
      }
    },
    {
      "cell_type": "markdown",
      "source": [
        "####Q6. After running the following code, what does the variable bacon contain?\n",
        "- bacon = 22\n",
        "- bacon + 1\n"
      ],
      "metadata": {
        "id": "sFEit868K-D4"
      }
    },
    {
      "cell_type": "code",
      "source": [
        "bacon = 22\n",
        "bacon + 1"
      ],
      "metadata": {
        "colab": {
          "base_uri": "https://localhost:8080/"
        },
        "id": "zV7W-o3PMdg6",
        "outputId": "e469c850-81c0-43fa-fd15-fd7805bdffa3"
      },
      "execution_count": 7,
      "outputs": [
        {
          "output_type": "execute_result",
          "data": {
            "text/plain": [
              "23"
            ]
          },
          "metadata": {},
          "execution_count": 7
        }
      ]
    },
    {
      "cell_type": "markdown",
      "source": [
        "- bacon will contain \"23\""
      ],
      "metadata": {
        "id": "_bvGE9-CMhS8"
      }
    },
    {
      "cell_type": "markdown",
      "source": [
        "####Q7. What should the values of the following two terms be?\n",
        "- 'spam' + 'spamspam'\n",
        "- 'spam' * 3\n"
      ],
      "metadata": {
        "id": "9uky6gp3M0ZE"
      }
    },
    {
      "cell_type": "markdown",
      "source": [
        "- 'spam' + 'spamspam' ( it will concatenate and become \"**spamspamspam**\" )\n",
        "- 'spam' * 3 (it will concatenate and become # \"**spamspamspam**\")\n",
        "- Example -;"
      ],
      "metadata": {
        "id": "6PNXL8LYNwIE"
      }
    },
    {
      "cell_type": "code",
      "source": [
        "'spam' + 'spamspam'"
      ],
      "metadata": {
        "colab": {
          "base_uri": "https://localhost:8080/",
          "height": 36
        },
        "id": "pc4iGBSfMr0D",
        "outputId": "fbe67937-93ce-4a30-9b43-dda95957892a"
      },
      "execution_count": 8,
      "outputs": [
        {
          "output_type": "execute_result",
          "data": {
            "text/plain": [
              "'spamspamspam'"
            ],
            "application/vnd.google.colaboratory.intrinsic+json": {
              "type": "string"
            }
          },
          "metadata": {},
          "execution_count": 8
        }
      ]
    },
    {
      "cell_type": "code",
      "source": [
        "'spam' * 3 "
      ],
      "metadata": {
        "colab": {
          "base_uri": "https://localhost:8080/",
          "height": 36
        },
        "id": "QCLOavEvM__e",
        "outputId": "50c63886-43bb-4ada-d77e-4c38690d3e9c"
      },
      "execution_count": 10,
      "outputs": [
        {
          "output_type": "execute_result",
          "data": {
            "text/plain": [
              "'spamspamspam'"
            ],
            "application/vnd.google.colaboratory.intrinsic+json": {
              "type": "string"
            }
          },
          "metadata": {},
          "execution_count": 10
        }
      ]
    },
    {
      "cell_type": "markdown",
      "source": [
        "####Q 8. Why is eggs a valid variable name while 100 is invalid?"
      ],
      "metadata": {
        "id": "oriWXVQDOUR8"
      }
    },
    {
      "cell_type": "markdown",
      "source": [
        "- Because variable names can not begin with Numbers"
      ],
      "metadata": {
        "id": "D07oWsW4Ob7M"
      }
    },
    {
      "cell_type": "markdown",
      "source": [
        "####9. What three functions can be used to get the integer, floating-point number, or string version of a value?"
      ],
      "metadata": {
        "id": "FkJpNCLPO_hr"
      }
    },
    {
      "cell_type": "markdown",
      "source": [
        "- Integer use \"int()\"\n",
        "- Floating-point number use \"float()\"\n",
        "- String use \"str()\""
      ],
      "metadata": {
        "id": "jUiKpdzwPQWC"
      }
    },
    {
      "cell_type": "markdown",
      "source": [
        "10. Why does this expression cause an error? How can you fix it?\n",
        "- 'I have eaten ' + 99 + ' burritos.'\n"
      ],
      "metadata": {
        "id": "hQkrc0djP2GP"
      }
    },
    {
      "cell_type": "markdown",
      "source": [
        "- In here \"99\" is an integer and string can only concatenated to other strings with the \"+\" operator.\n",
        "- We can fix by using str() to convert “99” to a string.\n",
        "- Example-;"
      ],
      "metadata": {
        "id": "uPWR7FX8QXBQ"
      }
    },
    {
      "cell_type": "code",
      "source": [
        "'I have eaten ' + str(99) + ' burritos.'"
      ],
      "metadata": {
        "colab": {
          "base_uri": "https://localhost:8080/",
          "height": 36
        },
        "id": "DpLkpfu-R6Lr",
        "outputId": "a25ad652-7c3e-4ca8-e4d5-69771e37614b"
      },
      "execution_count": 31,
      "outputs": [
        {
          "output_type": "execute_result",
          "data": {
            "text/plain": [
              "'I have eaten 99 burritos.'"
            ],
            "application/vnd.google.colaboratory.intrinsic+json": {
              "type": "string"
            }
          },
          "metadata": {},
          "execution_count": 31
        }
      ]
    },
    {
      "cell_type": "code",
      "source": [],
      "metadata": {
        "id": "61wQaZZzTreS"
      },
      "execution_count": null,
      "outputs": []
    }
  ]
}